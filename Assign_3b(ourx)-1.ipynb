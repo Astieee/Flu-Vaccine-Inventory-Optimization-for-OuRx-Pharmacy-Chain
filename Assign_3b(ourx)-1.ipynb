{
  "nbformat": 4,
  "nbformat_minor": 0,
  "metadata": {
    "colab": {
      "provenance": []
    },
    "kernelspec": {
      "name": "python3",
      "display_name": "Python 3"
    },
    "language_info": {
      "name": "python"
    }
  },
  "cells": [
    {
      "cell_type": "code",
      "source": [
        "from google.colab import drive\n",
        "drive.mount('/content/drive')"
      ],
      "metadata": {
        "colab": {
          "base_uri": "https://localhost:8080/"
        },
        "id": "yXnQlL6C1iuv",
        "outputId": "dafebd31-baa7-456b-cee5-e172c72da1f2"
      },
      "execution_count": null,
      "outputs": [
        {
          "output_type": "stream",
          "name": "stdout",
          "text": [
            "Mounted at /content/drive\n"
          ]
        }
      ]
    },
    {
      "cell_type": "code",
      "source": [
        "import sys\n",
        "sys.path.insert(0, \"/content/drive/MyDrive/645\")"
      ],
      "metadata": {
        "id": "_Fos6dWJ1ku9"
      },
      "execution_count": null,
      "outputs": []
    },
    {
      "cell_type": "code",
      "source": [
        "from brooks import *"
      ],
      "metadata": {
        "id": "17LcRd9XFSBb"
      },
      "execution_count": null,
      "outputs": []
    },
    {
      "cell_type": "code",
      "source": [
        "import pandas as pd\n",
        "import seaborn as sns\n",
        "import matplotlib.pyplot as plt"
      ],
      "metadata": {
        "id": "VWc2gFlL1tdD"
      },
      "execution_count": null,
      "outputs": []
    },
    {
      "cell_type": "markdown",
      "source": [
        "A. For an order quantity of 500,000 doses, what is the net profit when demand is 400,000 doses and 600,000 doses, respectively?"
      ],
      "metadata": {
        "id": "5iheP65A0m-p"
      }
    },
    {
      "cell_type": "code",
      "source": [
        "demand= 400000\n",
        "order_qty= 500000\n",
        "unit_price=20\n",
        "unit_cost=12"
      ],
      "metadata": {
        "id": "hDvGf18CIVF9"
      },
      "execution_count": null,
      "outputs": []
    },
    {
      "cell_type": "code",
      "source": [
        "demand1= 600000"
      ],
      "metadata": {
        "id": "HjZZVg-bIXuH"
      },
      "execution_count": null,
      "outputs": []
    },
    {
      "cell_type": "code",
      "source": [
        "profits = []\n",
        "cost = order_qty * unit_cost\n",
        "\n",
        "if demand >= order_qty:\n",
        "    revenue = order_qty * unit_price\n",
        "else:\n",
        "    revenue = demand * unit_price\n",
        "\n",
        "profits.append(revenue - cost)\n",
        "print(profits)"
      ],
      "metadata": {
        "id": "-M-tRMYaH_kX",
        "outputId": "787e0d54-259f-4e63-9c80-ebdd7c97b56b",
        "colab": {
          "base_uri": "https://localhost:8080/"
        }
      },
      "execution_count": null,
      "outputs": [
        {
          "output_type": "stream",
          "name": "stdout",
          "text": [
            "[2000000]\n"
          ]
        }
      ]
    },
    {
      "cell_type": "code",
      "source": [
        "import pandas as pd\n",
        "\n",
        "# Load data and filter out extreme outlier\n",
        "demand_data = pd.read_excel(\"/content/drive/MyDrive/645/Datasets/OuRx (1).xlsx\", sheet_name=\"Data\")\n",
        "new_data = demand_data.loc[demand_data[\"Vaccine Demand\"] < 30000000]\n",
        "\n",
        "# Define constants\n",
        "wholesale_price = 12\n",
        "retail_price = 20\n",
        "order_quantity = 500000\n",
        "\n",
        "def calculate_net_profit(demand):\n",
        "    sold_quantity = min(order_quantity, demand)\n",
        "    unsold_quantity = max(0, order_quantity - demand)\n",
        "    profit_from_sales = sold_quantity * (retail_price - wholesale_price)\n",
        "    net_profit = profit_from_sales - unsold_quantity * wholesale_price\n",
        "    return net_profit\n",
        "\n",
        "net_profit_400k = calculate_net_profit(400000)\n",
        "net_profit_600k = calculate_net_profit(600000)\n",
        "\n",
        "# Print results\n",
        "print(f\"Net Profit for Demand = 400,000: ${net_profit_400k}\")\n",
        "print(f\"Net Profit for Demand = 600,000: ${net_profit_600k}\")\n"
      ],
      "metadata": {
        "colab": {
          "base_uri": "https://localhost:8080/"
        },
        "id": "Nb4rPNkk0-w3",
        "outputId": "07714e70-90e1-4481-d627-ed40c7791645"
      },
      "execution_count": null,
      "outputs": [
        {
          "output_type": "stream",
          "name": "stdout",
          "text": [
            "Net Profit for Demand = 400,000: $2000000\n",
            "Net Profit for Demand = 600,000: $4000000\n"
          ]
        }
      ]
    },
    {
      "cell_type": "markdown",
      "source": [
        "B. Plot a histogram of the demand data.  What distribution seems appropriate for modeling demand?"
      ],
      "metadata": {
        "id": "UgeQsMRw0tU9"
      }
    },
    {
      "cell_type": "code",
      "source": [
        "plt.figure(figsize=(10, 6))\n",
        "sns.histplot(new_data[\"Vaccine Demand\"], bins=30, kde=True, color='black')\n",
        "plt.title('Histogram of Vaccine Demand')\n",
        "plt.xlabel('Demand')\n",
        "plt.ylabel('Frequency')\n",
        "plt.show()"
      ],
      "metadata": {
        "colab": {
          "base_uri": "https://localhost:8080/",
          "height": 564
        },
        "id": "nsXZHwtq7sw0",
        "outputId": "15b41de2-9e04-41e7-93de-48e2b3e1066f"
      },
      "execution_count": null,
      "outputs": [
        {
          "output_type": "display_data",
          "data": {
            "text/plain": [
              "<Figure size 1000x600 with 1 Axes>"
            ],
            "image/png": "[encoded data removed]"
          },
          "metadata": {}
        }
      ]
    },
    {
      "cell_type": "code",
      "source": [
        "chi=test_distribution(new_data[\"Vaccine Demand\"], distribution= 'lognormal')"
      ],
      "metadata": {
        "colab": {
          "base_uri": "https://localhost:8080/"
        },
        "id": "qZxOqy6h8zXj",
        "outputId": "e2d129fc-9b54-41bc-e51f-e5e898d6215d"
      },
      "execution_count": null,
      "outputs": [
        {
          "output_type": "stream",
          "name": "stdout",
          "text": [
            "For a lognormal distribution, the log mean estimate is 12.622927 and the log stdev estimate is 1.486323.\n",
            "The test statistic for a lognormal distribution is 29.309394 and the p-value is 1.000000.\n"
          ]
        }
      ]
    },
    {
      "cell_type": "code",
      "source": [
        "test_distribution(new_data[\"Vaccine Demand\"],distribution=\"triangular\")"
      ],
      "metadata": {
        "colab": {
          "base_uri": "https://localhost:8080/"
        },
        "id": "e_zfn_jg9Su_",
        "outputId": "f7532dc5-7789-4f35-9ebf-9ba966f5f415"
      },
      "execution_count": null,
      "outputs": [
        {
          "output_type": "stream",
          "name": "stdout",
          "text": [
            "For a triangular distribution, the min estimate is 3156.990111, the mode estimate is 3156.994858, and the max estimate is 21785047.124720.\n",
            "The test statistic for a triangular distribution is 4617.028624 and the p-value is 0.000000.\n"
          ]
        },
        {
          "output_type": "execute_result",
          "data": {
            "text/plain": [
              "(3156.9901109155835, 3156.9948579967077, 21785047.124719594)"
            ]
          },
          "metadata": {},
          "execution_count": 11
        }
      ]
    },
    {
      "cell_type": "code",
      "source": [
        "test_distribution(new_data[\"Vaccine Demand\"],distribution=\"uniform\")"
      ],
      "metadata": {
        "id": "nkS6GZkQ9dZT",
        "colab": {
          "base_uri": "https://localhost:8080/"
        },
        "outputId": "af887f89-bc64-44dd-8f21-6cf5e2a5f87d"
      },
      "execution_count": null,
      "outputs": [
        {
          "output_type": "stream",
          "name": "stdout",
          "text": [
            "For a uniform distribution, the min estimate is 3157.000000 and the max estimate is 21738695.000000.\n",
            "The test statistic for a uniform distribution is 8694.279483 and the p-value is 0.000000.\n"
          ]
        },
        {
          "output_type": "execute_result",
          "data": {
            "text/plain": [
              "(3157.0, 21738695.0)"
            ]
          },
          "metadata": {},
          "execution_count": 12
        }
      ]
    },
    {
      "cell_type": "code",
      "source": [
        "test_distribution(new_data[\"Vaccine Demand\"],distribution=\"exponential\")"
      ],
      "metadata": {
        "id": "2SDd1NJc82s7",
        "colab": {
          "base_uri": "https://localhost:8080/"
        },
        "outputId": "e35bf323-1f21-4c54-8100-4be41a88d788"
      },
      "execution_count": null,
      "outputs": [
        {
          "output_type": "stream",
          "name": "stdout",
          "text": [
            "For an exponential distribution, the scale parameter estimate is 924033.462926.\n",
            "The test statistic for a exponential distribution is 184.843432 and the p-value is 0.000133.\n"
          ]
        },
        {
          "output_type": "execute_result",
          "data": {
            "text/plain": [
              "924033.4629258517"
            ]
          },
          "metadata": {},
          "execution_count": 13
        }
      ]
    },
    {
      "cell_type": "code",
      "source": [
        "test_distribution(new_data[\"Vaccine Demand\"],distribution=\"normal\")"
      ],
      "metadata": {
        "colab": {
          "base_uri": "https://localhost:8080/"
        },
        "id": "npDpGaMX_WFs",
        "outputId": "84cfe9b2-04a6-4aea-8bb5-17b4199f3c28"
      },
      "execution_count": null,
      "outputs": [
        {
          "output_type": "stream",
          "name": "stdout",
          "text": [
            "For a normal distribution, the mean estimate is 924033.462926 and the standard deviation estimate is 2069466.437573.\n",
            "The test statistic for a normal distribution is 2299.479433 and the p-value is 0.000000.\n"
          ]
        },
        {
          "output_type": "execute_result",
          "data": {
            "text/plain": [
              "(924033.4629258517, 2069466.4375729202)"
            ]
          },
          "metadata": {},
          "execution_count": 14
        }
      ]
    },
    {
      "cell_type": "markdown",
      "source": [
        "c. Representing flu vaccine demand with the type of random variable you identified in part (B), create a simulation model and determine a 95% credible interval for net profit for an order quantity of 500,000 doses.  What is the probability of running out of the vaccine?"
      ],
      "metadata": {
        "id": "_Z8BhvLz0v5L"
      }
    },
    {
      "cell_type": "code",
      "source": [
        "import numpy as np\n",
        "\n",
        "wholesale_price = 12\n",
        "retail_price = 20\n",
        "order_quantity = 500000\n",
        "num_simulations = 1000  # Adjust the number of simulations as needed\n",
        "\n",
        "# Parameters for the lognormal distribution (you need to adjust these based on your fitting results)\n",
        "mean = 12.622927\n",
        "stdv = 1.486323\n",
        "\n",
        "# Simulate demand using lognormal distribution\n",
        "simulated_demand = np.random.lognormal(mean, stdv, size=num_simulations)\n",
        "\n",
        "# Calculate net profit for each simulation\n",
        "profits = np.minimum(order_quantity, simulated_demand) * (retail_price - wholesale_price)\n",
        "\n",
        "# Determine 95% credible interval for net profit\n",
        "lower_bound = np.percentile(profits, 2.5)\n",
        "upper_bound = np.percentile(profits, 97.5)\n",
        "\n",
        "# Calculate probability of running out of the vaccine\n",
        "probability_running_out = np.mean(simulated_demand > order_quantity)\n",
        "\n",
        "# Print results\n",
        "print(f\"95% Credible Interval for Net Profit: ${lower_bound:.2f} to ${upper_bound:.2f}\")\n",
        "print(f\"Probability of Running Out of Vaccine: {probability_running_out * 100:.2f}%\")"
      ],
      "metadata": {
        "colab": {
          "base_uri": "https://localhost:8080/"
        },
        "id": "z_2jBpTkCFEn",
        "outputId": "0b43eb03-a5b2-40c5-f8d3-1479039d8d39"
      },
      "execution_count": null,
      "outputs": [
        {
          "output_type": "stream",
          "name": "stdout",
          "text": [
            "95% Credible Interval for Net Profit: $115431.67 to $4000000.00\n",
            "Probability of Running Out of Vaccine: 39.80%\n"
          ]
        }
      ]
    },
    {
      "cell_type": "markdown",
      "source": [
        "D. Evaluate changing the policy for the order quantity.  Simulate for 400,000, 450,000, 500,000, 550,000, and 600,000 doses.  For which value is the expected profit maximized?  For each policy, what is the probability of running out of the vaccine?"
      ],
      "metadata": {
        "id": "s0n4dOcQ02we"
      }
    },
    {
      "cell_type": "code",
      "source": [
        "import numpy as np\n",
        "\n",
        "wholesale_price = 12\n",
        "retail_price = 20\n",
        "order_quantities = [400000, 450000, 500000, 550000, 600000]  # Different order quantities to simulate\n",
        "num_simulations = 1000\n",
        "\n",
        "# Parameters for the lognormal distribution\n",
        "mu = 12.622927\n",
        "sigma = 1.486323\n",
        "\n",
        "# Function to calculate profits for given demand and order quantity\n",
        "def calculate_profits(order_qty, demands, wholesale_price, retail_price):\n",
        "    profits = []\n",
        "    for demand in demands:\n",
        "        cost = order_qty * wholesale_price\n",
        "        revenue = min(demand, order_qty) * retail_price\n",
        "        profit = revenue - cost\n",
        "        profits.append(profit)\n",
        "    return profits\n",
        "\n",
        "for order_qty in order_quantities:\n",
        "    rg = np.random.default_rng()  # Initialize random number generator\n",
        "    simulated_demand = rg.lognormal(mean=mu, sigma=sigma, size=num_simulations)  # Simulate demand using lognormal distribution\n",
        "\n",
        "    profits = calculate_profits(order_qty, simulated_demand, wholesale_price, retail_price)\n",
        "\n",
        "    # Determine 95% credible interval for net profit\n",
        "    lower_bound = np.percentile(profits, 2.5)\n",
        "    upper_bound = np.percentile(profits, 97.5)\n",
        "\n",
        "    # Calculate probability of running out of the vaccine\n",
        "    probability_running_out = np.mean(simulated_demand > order_qty)\n",
        "\n",
        "    # Calculate expected profit\n",
        "    expected_profit = np.mean(profits)\n",
        "\n",
        "    # Print results for each policy\n",
        "    print(f\"Order Quantity: {order_qty}\")\n",
        "    print(f\"Expected Profit: ${expected_profit:.2f}\")\n",
        "    print(f\"95% Credible Interval for Net Profit: ${lower_bound:.2f} to ${upper_bound:.2f}\")\n",
        "    print(f\"Probability of Running Out of Vaccine: {probability_running_out * 100:.2f}%\")\n",
        "    print(\"---------------\")\n"
      ],
      "metadata": {
        "colab": {
          "base_uri": "https://localhost:8080/"
        },
        "id": "yGJ-glGRIq-m",
        "outputId": "1894376e-4872-457b-d119-39fe4ab5ea3c"
      },
      "execution_count": null,
      "outputs": [
        {
          "output_type": "stream",
          "name": "stdout",
          "text": [
            "Order Quantity: 400000\n",
            "Expected Profit: $364692.29\n",
            "95% Credible Interval for Net Profit: $-4426655.47 to $3200000.00\n",
            "Probability of Running Out of Vaccine: 40.30%\n",
            "---------------\n",
            "Order Quantity: 450000\n",
            "Expected Profit: $261559.65\n",
            "95% Credible Interval for Net Profit: $-5091663.18 to $3600000.00\n",
            "Probability of Running Out of Vaccine: 39.20%\n",
            "---------------\n",
            "Order Quantity: 500000\n",
            "Expected Profit: $22386.11\n",
            "95% Credible Interval for Net Profit: $-5669400.53 to $4000000.00\n",
            "Probability of Running Out of Vaccine: 37.80%\n",
            "---------------\n",
            "Order Quantity: 550000\n",
            "Expected Profit: $-338399.58\n",
            "95% Credible Interval for Net Profit: $-6372511.17 to $4400000.00\n",
            "Probability of Running Out of Vaccine: 34.40%\n",
            "---------------\n",
            "Order Quantity: 600000\n",
            "Expected Profit: $-487685.35\n",
            "95% Credible Interval for Net Profit: $-6852081.67 to $4800000.00\n",
            "Probability of Running Out of Vaccine: 32.90%\n",
            "---------------\n"
          ]
        }
      ]
    }
  ]
}